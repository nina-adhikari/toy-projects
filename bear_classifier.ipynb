{
  "nbformat": 4,
  "nbformat_minor": 0,
  "metadata": {
    "colab": {
      "provenance": [],
      "authorship_tag": "ABX9TyORa96L4SR+4W6vVEtJ9c3+"
    },
    "kernelspec": {
      "name": "python3",
      "display_name": "Python 3"
    },
    "language_info": {
      "name": "python"
    },
    "widgets": {
      "application/vnd.jupyter.widget-state+json": {
        "e131942696744af09f54b0a38ca59018": {
          "model_module": "@jupyter-widgets/controls",
          "model_name": "VBoxModel",
          "model_module_version": "1.5.0",
          "state": {
            "_dom_classes": [],
            "_model_module": "@jupyter-widgets/controls",
            "_model_module_version": "1.5.0",
            "_model_name": "VBoxModel",
            "_view_count": null,
            "_view_module": "@jupyter-widgets/controls",
            "_view_module_version": "1.5.0",
            "_view_name": "VBoxView",
            "box_style": "",
            "children": [
              "IPY_MODEL_7d7c4219ed854c9faa6dbc30949e3232",
              "IPY_MODEL_bb0f0cc919aa4cf2be5785596873fcb1",
              "IPY_MODEL_54c436c979ad4cc1ae236ca4e74cf704",
              "IPY_MODEL_0bf07ab2b9c642c980b27969b6f59ebb",
              "IPY_MODEL_b843563f7d254c1c8e97c5539412ccb2"
            ],
            "layout": "IPY_MODEL_e118202b954a412ba5fad04ba4d5f124"
          }
        },
        "7d7c4219ed854c9faa6dbc30949e3232": {
          "model_module": "@jupyter-widgets/controls",
          "model_name": "LabelModel",
          "model_module_version": "1.5.0",
          "state": {
            "_dom_classes": [],
            "_model_module": "@jupyter-widgets/controls",
            "_model_module_version": "1.5.0",
            "_model_name": "LabelModel",
            "_view_count": null,
            "_view_module": "@jupyter-widgets/controls",
            "_view_module_version": "1.5.0",
            "_view_name": "LabelView",
            "description": "",
            "description_tooltip": null,
            "layout": "IPY_MODEL_c9cfb8184b3d4b04b6a53eb6c771df60",
            "placeholder": "​",
            "style": "IPY_MODEL_6a4d4088b3d44aadbded4323b5cafa71",
            "value": "Select your bear!"
          }
        },
        "bb0f0cc919aa4cf2be5785596873fcb1": {
          "model_module": "@jupyter-widgets/controls",
          "model_name": "FileUploadModel",
          "model_module_version": "1.5.0",
          "state": {
            "_counter": 1,
            "_dom_classes": [],
            "_model_module": "@jupyter-widgets/controls",
            "_model_module_version": "1.5.0",
            "_model_name": "FileUploadModel",
            "_view_count": null,
            "_view_module": "@jupyter-widgets/controls",
            "_view_module_version": "1.5.0",
            "_view_name": "FileUploadView",
            "accept": "",
            "button_style": "",
            "data": [
              null
            ],
            "description": "Upload",
            "description_tooltip": null,
            "disabled": false,
            "error": "",
            "icon": "upload",
            "layout": "IPY_MODEL_3381fb4952054380a180d9e7528f9f0f",
            "metadata": [
              {
                "name": "bilbo2.png",
                "type": "image/png",
                "size": 352208,
                "lastModified": 1687928907228
              }
            ],
            "multiple": false,
            "style": "IPY_MODEL_ac28affc695548a7bef77b6a8bb94a2d"
          }
        },
        "54c436c979ad4cc1ae236ca4e74cf704": {
          "model_module": "@jupyter-widgets/controls",
          "model_name": "ButtonModel",
          "model_module_version": "1.5.0",
          "state": {
            "_dom_classes": [],
            "_model_module": "@jupyter-widgets/controls",
            "_model_module_version": "1.5.0",
            "_model_name": "ButtonModel",
            "_view_count": null,
            "_view_module": "@jupyter-widgets/controls",
            "_view_module_version": "1.5.0",
            "_view_name": "ButtonView",
            "button_style": "",
            "description": "Classify",
            "disabled": false,
            "icon": "",
            "layout": "IPY_MODEL_646e43064810402bbcb3239d3716d163",
            "style": "IPY_MODEL_7f3b2f966cfc45d3805f8508855948ff",
            "tooltip": ""
          }
        },
        "0bf07ab2b9c642c980b27969b6f59ebb": {
          "model_module": "@jupyter-widgets/output",
          "model_name": "OutputModel",
          "model_module_version": "1.0.0",
          "state": {
            "_dom_classes": [],
            "_model_module": "@jupyter-widgets/output",
            "_model_module_version": "1.0.0",
            "_model_name": "OutputModel",
            "_view_count": null,
            "_view_module": "@jupyter-widgets/output",
            "_view_module_version": "1.0.0",
            "_view_name": "OutputView",
            "layout": "IPY_MODEL_2ca54d21ca374292b2dfff73287569cb",
            "msg_id": "",
            "outputs": [
              {
                "output_type": "display_data",
                "data": {
                  "text/plain": "<PIL.Image.Image image mode=RGB size=128x89>",
                  "image/png": "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\n"
                },
                "metadata": {}
              }
            ]
          }
        },
        "b843563f7d254c1c8e97c5539412ccb2": {
          "model_module": "@jupyter-widgets/controls",
          "model_name": "LabelModel",
          "model_module_version": "1.5.0",
          "state": {
            "_dom_classes": [],
            "_model_module": "@jupyter-widgets/controls",
            "_model_module_version": "1.5.0",
            "_model_name": "LabelModel",
            "_view_count": null,
            "_view_module": "@jupyter-widgets/controls",
            "_view_module_version": "1.5.0",
            "_view_name": "LabelView",
            "description": "",
            "description_tooltip": null,
            "layout": "IPY_MODEL_292dca64e6954c678afe0d4924155353",
            "placeholder": "​",
            "style": "IPY_MODEL_db8ec59a3dae4bbe86804f75d6a5dbf4",
            "value": "Prediction: teddy; Probability: 0.9945"
          }
        },
        "e118202b954a412ba5fad04ba4d5f124": {
          "model_module": "@jupyter-widgets/base",
          "model_name": "LayoutModel",
          "model_module_version": "1.2.0",
          "state": {
            "_model_module": "@jupyter-widgets/base",
            "_model_module_version": "1.2.0",
            "_model_name": "LayoutModel",
            "_view_count": null,
            "_view_module": "@jupyter-widgets/base",
            "_view_module_version": "1.2.0",
            "_view_name": "LayoutView",
            "align_content": null,
            "align_items": null,
            "align_self": null,
            "border": null,
            "bottom": null,
            "display": null,
            "flex": null,
            "flex_flow": null,
            "grid_area": null,
            "grid_auto_columns": null,
            "grid_auto_flow": null,
            "grid_auto_rows": null,
            "grid_column": null,
            "grid_gap": null,
            "grid_row": null,
            "grid_template_areas": null,
            "grid_template_columns": null,
            "grid_template_rows": null,
            "height": null,
            "justify_content": null,
            "justify_items": null,
            "left": null,
            "margin": null,
            "max_height": null,
            "max_width": null,
            "min_height": null,
            "min_width": null,
            "object_fit": null,
            "object_position": null,
            "order": null,
            "overflow": null,
            "overflow_x": null,
            "overflow_y": null,
            "padding": null,
            "right": null,
            "top": null,
            "visibility": null,
            "width": null
          }
        },
        "c9cfb8184b3d4b04b6a53eb6c771df60": {
          "model_module": "@jupyter-widgets/base",
          "model_name": "LayoutModel",
          "model_module_version": "1.2.0",
          "state": {
            "_model_module": "@jupyter-widgets/base",
            "_model_module_version": "1.2.0",
            "_model_name": "LayoutModel",
            "_view_count": null,
            "_view_module": "@jupyter-widgets/base",
            "_view_module_version": "1.2.0",
            "_view_name": "LayoutView",
            "align_content": null,
            "align_items": null,
            "align_self": null,
            "border": null,
            "bottom": null,
            "display": null,
            "flex": null,
            "flex_flow": null,
            "grid_area": null,
            "grid_auto_columns": null,
            "grid_auto_flow": null,
            "grid_auto_rows": null,
            "grid_column": null,
            "grid_gap": null,
            "grid_row": null,
            "grid_template_areas": null,
            "grid_template_columns": null,
            "grid_template_rows": null,
            "height": null,
            "justify_content": null,
            "justify_items": null,
            "left": null,
            "margin": null,
            "max_height": null,
            "max_width": null,
            "min_height": null,
            "min_width": null,
            "object_fit": null,
            "object_position": null,
            "order": null,
            "overflow": null,
            "overflow_x": null,
            "overflow_y": null,
            "padding": null,
            "right": null,
            "top": null,
            "visibility": null,
            "width": null
          }
        },
        "6a4d4088b3d44aadbded4323b5cafa71": {
          "model_module": "@jupyter-widgets/controls",
          "model_name": "DescriptionStyleModel",
          "model_module_version": "1.5.0",
          "state": {
            "_model_module": "@jupyter-widgets/controls",
            "_model_module_version": "1.5.0",
            "_model_name": "DescriptionStyleModel",
            "_view_count": null,
            "_view_module": "@jupyter-widgets/base",
            "_view_module_version": "1.2.0",
            "_view_name": "StyleView",
            "description_width": ""
          }
        },
        "3381fb4952054380a180d9e7528f9f0f": {
          "model_module": "@jupyter-widgets/base",
          "model_name": "LayoutModel",
          "model_module_version": "1.2.0",
          "state": {
            "_model_module": "@jupyter-widgets/base",
            "_model_module_version": "1.2.0",
            "_model_name": "LayoutModel",
            "_view_count": null,
            "_view_module": "@jupyter-widgets/base",
            "_view_module_version": "1.2.0",
            "_view_name": "LayoutView",
            "align_content": null,
            "align_items": null,
            "align_self": null,
            "border": null,
            "bottom": null,
            "display": null,
            "flex": null,
            "flex_flow": null,
            "grid_area": null,
            "grid_auto_columns": null,
            "grid_auto_flow": null,
            "grid_auto_rows": null,
            "grid_column": null,
            "grid_gap": null,
            "grid_row": null,
            "grid_template_areas": null,
            "grid_template_columns": null,
            "grid_template_rows": null,
            "height": null,
            "justify_content": null,
            "justify_items": null,
            "left": null,
            "margin": null,
            "max_height": null,
            "max_width": null,
            "min_height": null,
            "min_width": null,
            "object_fit": null,
            "object_position": null,
            "order": null,
            "overflow": null,
            "overflow_x": null,
            "overflow_y": null,
            "padding": null,
            "right": null,
            "top": null,
            "visibility": null,
            "width": null
          }
        },
        "ac28affc695548a7bef77b6a8bb94a2d": {
          "model_module": "@jupyter-widgets/controls",
          "model_name": "ButtonStyleModel",
          "model_module_version": "1.5.0",
          "state": {
            "_model_module": "@jupyter-widgets/controls",
            "_model_module_version": "1.5.0",
            "_model_name": "ButtonStyleModel",
            "_view_count": null,
            "_view_module": "@jupyter-widgets/base",
            "_view_module_version": "1.2.0",
            "_view_name": "StyleView",
            "button_color": null,
            "font_weight": ""
          }
        },
        "646e43064810402bbcb3239d3716d163": {
          "model_module": "@jupyter-widgets/base",
          "model_name": "LayoutModel",
          "model_module_version": "1.2.0",
          "state": {
            "_model_module": "@jupyter-widgets/base",
            "_model_module_version": "1.2.0",
            "_model_name": "LayoutModel",
            "_view_count": null,
            "_view_module": "@jupyter-widgets/base",
            "_view_module_version": "1.2.0",
            "_view_name": "LayoutView",
            "align_content": null,
            "align_items": null,
            "align_self": null,
            "border": null,
            "bottom": null,
            "display": null,
            "flex": null,
            "flex_flow": null,
            "grid_area": null,
            "grid_auto_columns": null,
            "grid_auto_flow": null,
            "grid_auto_rows": null,
            "grid_column": null,
            "grid_gap": null,
            "grid_row": null,
            "grid_template_areas": null,
            "grid_template_columns": null,
            "grid_template_rows": null,
            "height": null,
            "justify_content": null,
            "justify_items": null,
            "left": null,
            "margin": null,
            "max_height": null,
            "max_width": null,
            "min_height": null,
            "min_width": null,
            "object_fit": null,
            "object_position": null,
            "order": null,
            "overflow": null,
            "overflow_x": null,
            "overflow_y": null,
            "padding": null,
            "right": null,
            "top": null,
            "visibility": null,
            "width": null
          }
        },
        "7f3b2f966cfc45d3805f8508855948ff": {
          "model_module": "@jupyter-widgets/controls",
          "model_name": "ButtonStyleModel",
          "model_module_version": "1.5.0",
          "state": {
            "_model_module": "@jupyter-widgets/controls",
            "_model_module_version": "1.5.0",
            "_model_name": "ButtonStyleModel",
            "_view_count": null,
            "_view_module": "@jupyter-widgets/base",
            "_view_module_version": "1.2.0",
            "_view_name": "StyleView",
            "button_color": null,
            "font_weight": ""
          }
        },
        "292dca64e6954c678afe0d4924155353": {
          "model_module": "@jupyter-widgets/base",
          "model_name": "LayoutModel",
          "model_module_version": "1.2.0",
          "state": {
            "_model_module": "@jupyter-widgets/base",
            "_model_module_version": "1.2.0",
            "_model_name": "LayoutModel",
            "_view_count": null,
            "_view_module": "@jupyter-widgets/base",
            "_view_module_version": "1.2.0",
            "_view_name": "LayoutView",
            "align_content": null,
            "align_items": null,
            "align_self": null,
            "border": null,
            "bottom": null,
            "display": null,
            "flex": null,
            "flex_flow": null,
            "grid_area": null,
            "grid_auto_columns": null,
            "grid_auto_flow": null,
            "grid_auto_rows": null,
            "grid_column": null,
            "grid_gap": null,
            "grid_row": null,
            "grid_template_areas": null,
            "grid_template_columns": null,
            "grid_template_rows": null,
            "height": null,
            "justify_content": null,
            "justify_items": null,
            "left": null,
            "margin": null,
            "max_height": null,
            "max_width": null,
            "min_height": null,
            "min_width": null,
            "object_fit": null,
            "object_position": null,
            "order": null,
            "overflow": null,
            "overflow_x": null,
            "overflow_y": null,
            "padding": null,
            "right": null,
            "top": null,
            "visibility": null,
            "width": null
          }
        },
        "db8ec59a3dae4bbe86804f75d6a5dbf4": {
          "model_module": "@jupyter-widgets/controls",
          "model_name": "DescriptionStyleModel",
          "model_module_version": "1.5.0",
          "state": {
            "_model_module": "@jupyter-widgets/controls",
            "_model_module_version": "1.5.0",
            "_model_name": "DescriptionStyleModel",
            "_view_count": null,
            "_view_module": "@jupyter-widgets/base",
            "_view_module_version": "1.2.0",
            "_view_name": "StyleView",
            "description_width": ""
          }
        },
        "2ca54d21ca374292b2dfff73287569cb": {
          "model_module": "@jupyter-widgets/base",
          "model_name": "LayoutModel",
          "model_module_version": "1.2.0",
          "state": {
            "_model_module": "@jupyter-widgets/base",
            "_model_module_version": "1.2.0",
            "_model_name": "LayoutModel",
            "_view_count": null,
            "_view_module": "@jupyter-widgets/base",
            "_view_module_version": "1.2.0",
            "_view_name": "LayoutView",
            "align_content": null,
            "align_items": null,
            "align_self": null,
            "border": null,
            "bottom": null,
            "display": null,
            "flex": null,
            "flex_flow": null,
            "grid_area": null,
            "grid_auto_columns": null,
            "grid_auto_flow": null,
            "grid_auto_rows": null,
            "grid_column": null,
            "grid_gap": null,
            "grid_row": null,
            "grid_template_areas": null,
            "grid_template_columns": null,
            "grid_template_rows": null,
            "height": null,
            "justify_content": null,
            "justify_items": null,
            "left": null,
            "margin": null,
            "max_height": null,
            "max_width": null,
            "min_height": null,
            "min_width": null,
            "object_fit": null,
            "object_position": null,
            "order": null,
            "overflow": null,
            "overflow_x": null,
            "overflow_y": null,
            "padding": null,
            "right": null,
            "top": null,
            "visibility": null,
            "width": null
          }
        }
      }
    }
  },
  "cells": [
    {
      "cell_type": "code",
      "execution_count": null,
      "metadata": {
        "id": "NuPItwOhgbye"
      },
      "outputs": [],
      "source": [
        "!pip install voila\n",
        "!jupyter serverextension enable --sys-prefix voila"
      ]
    },
    {
      "cell_type": "code",
      "source": [
        "! [ -e /content ] && pip install -Uqq fastbook\n",
        "import fastbook\n",
        "fastbook.setup_book()\n",
        "from fastbook import *\n",
        "from fastai.vision.widgets import *"
      ],
      "metadata": {
        "id": "15T6JmwriEz8"
      },
      "execution_count": 20,
      "outputs": []
    },
    {
      "cell_type": "code",
      "source": [
        "path = Path()\n",
        "learn_inf = load_learner(path/'export.pkl')"
      ],
      "metadata": {
        "id": "4Q3nr37SiYyP"
      },
      "execution_count": 25,
      "outputs": []
    },
    {
      "cell_type": "code",
      "source": [
        "btn_upload = widgets.FileUpload()\n",
        "btn_run = widgets.Button(description='Classify')\n",
        "\n",
        "def on_click_classify(change):\n",
        "    img = PILImage.create(btn_upload.data[-1])\n",
        "    out_pl.clear_output()\n",
        "    with out_pl: display(img.to_thumb(128,128))\n",
        "    pred,pred_idx,probs = learn_inf.predict(img)\n",
        "    lbl_pred.value = f'Prediction: {pred}; Probability: {probs[pred_idx]:.04f}'\n",
        "\n",
        "btn_run.on_click(on_click_classify)\n",
        "\n",
        "VBox([widgets.Label('Select your bear!'),\n",
        "      btn_upload, btn_run, out_pl, lbl_pred])"
      ],
      "metadata": {
        "colab": {
          "base_uri": "https://localhost:8080/",
          "height": 234,
          "referenced_widgets": [
            "e131942696744af09f54b0a38ca59018",
            "7d7c4219ed854c9faa6dbc30949e3232",
            "bb0f0cc919aa4cf2be5785596873fcb1",
            "54c436c979ad4cc1ae236ca4e74cf704",
            "0bf07ab2b9c642c980b27969b6f59ebb",
            "b843563f7d254c1c8e97c5539412ccb2",
            "e118202b954a412ba5fad04ba4d5f124",
            "c9cfb8184b3d4b04b6a53eb6c771df60",
            "6a4d4088b3d44aadbded4323b5cafa71",
            "3381fb4952054380a180d9e7528f9f0f",
            "ac28affc695548a7bef77b6a8bb94a2d",
            "646e43064810402bbcb3239d3716d163",
            "7f3b2f966cfc45d3805f8508855948ff",
            "292dca64e6954c678afe0d4924155353",
            "db8ec59a3dae4bbe86804f75d6a5dbf4",
            "2ca54d21ca374292b2dfff73287569cb"
          ]
        },
        "id": "KtQHAzxMkZNu",
        "outputId": "66e06fd8-dd7e-4777-9616-824f1b64c2e5"
      },
      "execution_count": 32,
      "outputs": [
        {
          "output_type": "display_data",
          "data": {
            "text/plain": [
              "VBox(children=(Label(value='Select your bear!'), FileUpload(value={}, description='Upload'), Button(descriptio…"
            ],
            "application/vnd.jupyter.widget-view+json": {
              "version_major": 2,
              "version_minor": 0,
              "model_id": "e131942696744af09f54b0a38ca59018"
            }
          },
          "metadata": {}
        },
        {
          "output_type": "display_data",
          "data": {
            "text/plain": [
              "<IPython.core.display.HTML object>"
            ],
            "text/html": [
              "\n",
              "<style>\n",
              "    /* Turns off some styling */\n",
              "    progress {\n",
              "        /* gets rid of default border in Firefox and Opera. */\n",
              "        border: none;\n",
              "        /* Needs to be in here for Safari polyfill so background images work as expected. */\n",
              "        background-size: auto;\n",
              "    }\n",
              "    progress:not([value]), progress:not([value])::-webkit-progress-bar {\n",
              "        background: repeating-linear-gradient(45deg, #7e7e7e, #7e7e7e 10px, #5c5c5c 10px, #5c5c5c 20px);\n",
              "    }\n",
              "    .progress-bar-interrupted, .progress-bar-interrupted::-webkit-progress-bar {\n",
              "        background: #F44336;\n",
              "    }\n",
              "</style>\n"
            ]
          },
          "metadata": {}
        },
        {
          "output_type": "display_data",
          "data": {
            "text/plain": [
              "<IPython.core.display.HTML object>"
            ],
            "text/html": []
          },
          "metadata": {}
        }
      ]
    }
  ]
}